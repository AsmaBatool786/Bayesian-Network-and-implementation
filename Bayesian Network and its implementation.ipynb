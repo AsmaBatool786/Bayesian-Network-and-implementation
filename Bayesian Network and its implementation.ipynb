{
 "cells": [
  {
   "cell_type": "markdown",
   "id": "e728574d",
   "metadata": {},
   "source": [
    "# Bayesian Network \n",
    "\n",
    "Bayesian Network is a probabilistic graphical model for representing knowledge about an uncertain domain that helps make predictions under uncertainty. It consists of nodes and edges where each node corresponds to a random variable and each edge represents conditional probability for the for the corresponding random variables. Bayesian Networks are also called belief networks or Bayes nets.\n",
    "\n"
   ]
  },
  {
   "cell_type": "markdown",
   "id": "2c8c8d2c",
   "metadata": {},
   "source": [
    "The Cleveland heart disease data retrieved from  UCI (University of California, Irvine) repository is chosen as an example for the implementation of Bayesian Network. The dataset consists of 303 individuals’ data. The Cleveland database originally consists of 75 attributes, but out of 75 only 14 attributes have been extracted. This is an example of classification task to predict whether an individual is suffering from heart disease or not (0: absence, 1: presence). The \"heartdisease\" field refers to the presence or absence of heart disease in the patient. \n"
   ]
  },
  {
   "cell_type": "markdown",
   "id": "9a91d897",
   "metadata": {},
   "source": [
    "This database contains 13 attributes and a target variable, i.e. heartdisease. It has 8 nominal values and 5 numeric values. The detailed description of all these features are as follows:"
   ]
  },
  {
   "cell_type": "markdown",
   "id": "24227129",
   "metadata": {},
   "source": [
    "1. Age: Patients Age in years (Numeric)\n",
    "2. Sex: Gender (Male : 1; Female : 0) (Nominal)\n",
    "3. cp: Type of chest pain experienced by patient. This term is categorized into 4 categories.\n",
    "0 refers to typical angina, 1 atypical angina, 2 non- anginal pain, 3 asymptomatic (Nominal)\n",
    "4. trestbps: patient's level of blood pressure at resting mode in mm/HG (Numerical)\n",
    "5. chol: Serum cholesterol in mg/dl (Numeric)\n",
    "6. fbs: Blood sugar levels on fasting, > 120 mg/dl represents as 1 in case of true and 0 as false (Nominal)\n",
    "7. restecg: Result of electrocardiogram while at rest are represented in 3 distinct values.\n",
    "0 : Normal, 1: having ST-T wave abnormality (T wave inversions and/or ST elevation or depression of >\n",
    "0.05 mV), 2: showing probable or definite left ventricular hypertrophyby Estes' criteria (Nominal)\n",
    "8. thalach: Maximum heart rate achieved (Numeric)\n",
    "9. exang: Angina induced by exercise. 0 depicting NO, 1 depicting Yes (Nominal)\n",
    "10. oldpeak: Exercise induced ST-depression in relative with the state of rest (Numeric)\n",
    "11. slope: ST segment measured in terms of slope during peak exercise.\n",
    "0: up sloping, 1: flat, 2: down sloping(Nominal)\n",
    "12. ca: The number of major vessels (0–3)(Nominal)\n",
    "13. thal: A blood disorder called thalassemia.\n",
    "0: NULL, 1: normal blood flow, 2: fixed defect (no blood flow in some part of the heart), 3: reversible defect (a blood flow is observed but it is not normal(Nominal)\n",
    "14. heartdisease: It is the target variable which we have to predict. 1 means patient is suffering from heart disease and 0 means patient is healthy."
   ]
  },
  {
   "cell_type": "markdown",
   "id": "0a352a98",
   "metadata": {},
   "source": [
    "The heart disease example is implemented on Python language using Jupyter Notebook which is an efficient IDE (Integrated development Environment) for easily combining text(selecting Markdown option from dropdown list) and code(Python in this case) in one canvas called notebook. We import some of the python libraries before working on the data. "
   ]
  },
  {
   "cell_type": "markdown",
   "id": "f52aa7fb",
   "metadata": {},
   "source": [
    "NumPy and pandas are very useful libraries in python. NumPy is an open-source Python library that facilitates efficient numerical operations on large quantities of data. A pandas DataFrame can be easily changed and manipulated. Pandas has helpful functions for handling missing data, performing operations on columns and rows, and transforming data. \n",
    "The Bayesian Network-specific library is \"pgmpy\" which is a pure python implementation for Bayesian Networks with various algorithms for Structure Learning, Parameter Estimation, Approximate (Sampling Based) and Exact inference, and Causal Inference are available. For visualization purposes, \"networkx\" and \"matplotlib\" libraries are imported.\n",
    "\n",
    "I used Anaconda which is a free python/R data science distribution. If Anaconda is installed, NumPy and pandas may have been auto-installed as well. If they haven’t been, or if we want to update to the latest versions, we can open a terminal window and run the following commands:\n",
    "<code>\n",
    "conda install numpy\n",
    "conda install pandas \n",
    "</code>\n",
    "Once these libraries are installed, you’re ready to open any Python coding environment (Jupyter Notebook in our example). Before you can use these libraries, you’ll need to import them using the following lines of code."
   ]
  },
  {
   "cell_type": "code",
   "execution_count": 27,
   "id": "9d307b9a",
   "metadata": {},
   "outputs": [],
   "source": [
    "import numpy as np\n",
    "import csv\n",
    "import pandas as pd\n",
    "from pgmpy.models import BayesianNetwork\n",
    "from pgmpy.estimators import MaximumLikelihoodEstimator\n",
    "from pgmpy.inference import VariableElimination\n",
    "import networkx as nx\n",
    "import matplotlib.pyplot as plt"
   ]
  },
  {
   "cell_type": "markdown",
   "id": "f2fae74b",
   "metadata": {},
   "source": [
    "As mentioned earlier,the heart disease dataset taken from UCI repository is now imported using csv library."
   ]
  },
  {
   "cell_type": "code",
   "execution_count": 25,
   "id": "2a08f9ad",
   "metadata": {},
   "outputs": [],
   "source": [
    "# Load the dataset\n",
    "heartDisease = pd.read_csv('heart.csv')"
   ]
  },
  {
   "cell_type": "code",
   "execution_count": 28,
   "id": "d45f1f2d",
   "metadata": {},
   "outputs": [],
   "source": [
    "# Define the structure of the Directed Acyclic Graph(DAG) by defining the edges based on some domain knowledge or assumptions\n",
    "# Here, we'll assume some dependencies for demonstration purposes:\n",
    "edges = [('age','trestbps'),('age','fbs'),\n",
    "('sex','trestbps'),('exang','trestbps'),('trestbps','heartdisease'),('fbs','heartdisease'),('heartdisease','restecg'),\n",
    "('heartdisease','thalach'),('heartdisease','chol')]"
   ]
  },
  {
   "cell_type": "code",
   "execution_count": 29,
   "id": "618a5024",
   "metadata": {},
   "outputs": [],
   "source": [
    "# Create the Bayesian Network\n",
    "model = BayesianNetwork(edges)"
   ]
  },
  {
   "cell_type": "code",
   "execution_count": 30,
   "id": "35eed3f5",
   "metadata": {},
   "outputs": [
    {
     "name": "stdout",
     "output_type": "stream",
     "text": [
      "Few examples from the dataset are given below\n",
      "   age  sex  cp  trestbps  chol  fbs  restecg  thalach  exang  oldpeak  slope  \\\n",
      "0   63    1   0       145   233    1        2      150      0      2.3      2   \n",
      "1   67    1   3       160   286    0        2      108      1      1.5      1   \n",
      "2   67    1   3       120   229    0        2      129      1      2.6      1   \n",
      "3   37    1   2       130   250    0        0      187      0      3.5      2   \n",
      "4   41    0   1       130   204    0        2      172      0      1.4      0   \n",
      "\n",
      "   ca  thal  heartdisease  \n",
      "0   0     2             0  \n",
      "1   3     1             1  \n",
      "2   2     3             1  \n",
      "3   0     1             0  \n",
      "4   0     1             0  \n"
     ]
    }
   ],
   "source": [
    "print('Few examples from the dataset are given below')\n",
    "print(heartDisease.head())"
   ]
  },
  {
   "cell_type": "code",
   "execution_count": 31,
   "id": "aa635439",
   "metadata": {},
   "outputs": [
    {
     "name": "stdout",
     "output_type": "stream",
     "text": [
      "\n",
      " Learning CPD using Maximum likelihood estimators\n"
     ]
    }
   ],
   "source": [
    "print('\\n Learning CPD using Maximum likelihood estimators')\n",
    "model.fit(heartDisease,estimator=MaximumLikelihoodEstimator)"
   ]
  },
  {
   "cell_type": "code",
   "execution_count": 32,
   "id": "559a611e",
   "metadata": {},
   "outputs": [
    {
     "name": "stdout",
     "output_type": "stream",
     "text": [
      "\n",
      " Inferencing with Bayesian Network:\n"
     ]
    }
   ],
   "source": [
    "print('\\n Inferencing with Bayesian Network:')\n",
    "HeartDisease_infer = VariableElimination(model)"
   ]
  },
  {
   "cell_type": "code",
   "execution_count": 33,
   "id": "547ad788",
   "metadata": {},
   "outputs": [
    {
     "name": "stdout",
     "output_type": "stream",
     "text": [
      "\n",
      " 1. Probability of HeartDisease given Age=50\n",
      "+-----------------+---------------------+\n",
      "| heartdisease    |   phi(heartdisease) |\n",
      "+=================+=====================+\n",
      "| heartdisease(0) |              0.4595 |\n",
      "+-----------------+---------------------+\n",
      "| heartdisease(1) |              0.5405 |\n",
      "+-----------------+---------------------+\n"
     ]
    }
   ],
   "source": [
    "print('\\n 1. Probability of HeartDisease given Age=50')\n",
    "q=HeartDisease_infer.query(variables=['heartdisease'],evidence={'age':50})\n",
    "print(q)"
   ]
  },
  {
   "cell_type": "code",
   "execution_count": 34,
   "id": "27e46c0e",
   "metadata": {},
   "outputs": [
    {
     "name": "stdout",
     "output_type": "stream",
     "text": [
      "\n",
      " 2. Probability of HeartDisease given cholesterol=200\n",
      "+-----------------+---------------------+\n",
      "| heartdisease    |   phi(heartdisease) |\n",
      "+=================+=====================+\n",
      "| heartdisease(0) |              0.0000 |\n",
      "+-----------------+---------------------+\n",
      "| heartdisease(1) |              1.0000 |\n",
      "+-----------------+---------------------+\n"
     ]
    }
   ],
   "source": [
    "print('\\n 2. Probability of HeartDisease given cholesterol=200')\n",
    "q=HeartDisease_infer.query(variables=['heartdisease'],evidence={'chol':200})\n",
    "print(q)"
   ]
  },
  {
   "cell_type": "code",
   "execution_count": 35,
   "id": "30d5da1d",
   "metadata": {},
   "outputs": [
    {
     "data": {
      "text/html": [
       "<div>\n",
       "<style scoped>\n",
       "    .dataframe tbody tr th:only-of-type {\n",
       "        vertical-align: middle;\n",
       "    }\n",
       "\n",
       "    .dataframe tbody tr th {\n",
       "        vertical-align: top;\n",
       "    }\n",
       "\n",
       "    .dataframe thead th {\n",
       "        text-align: right;\n",
       "    }\n",
       "</style>\n",
       "<table border=\"1\" class=\"dataframe\">\n",
       "  <thead>\n",
       "    <tr style=\"text-align: right;\">\n",
       "      <th></th>\n",
       "      <th>age</th>\n",
       "      <th>sex</th>\n",
       "      <th>cp</th>\n",
       "      <th>trestbps</th>\n",
       "      <th>chol</th>\n",
       "      <th>fbs</th>\n",
       "      <th>restecg</th>\n",
       "      <th>thalach</th>\n",
       "      <th>exang</th>\n",
       "      <th>oldpeak</th>\n",
       "      <th>slope</th>\n",
       "      <th>ca</th>\n",
       "      <th>thal</th>\n",
       "      <th>heartdisease</th>\n",
       "    </tr>\n",
       "  </thead>\n",
       "  <tbody>\n",
       "    <tr>\n",
       "      <th>count</th>\n",
       "      <td>303.000000</td>\n",
       "      <td>303.000000</td>\n",
       "      <td>303.000000</td>\n",
       "      <td>303.000000</td>\n",
       "      <td>303.000000</td>\n",
       "      <td>303.000000</td>\n",
       "      <td>303.000000</td>\n",
       "      <td>303.000000</td>\n",
       "      <td>303.000000</td>\n",
       "      <td>303.000000</td>\n",
       "      <td>303.000000</td>\n",
       "      <td>303.000000</td>\n",
       "      <td>303.000000</td>\n",
       "      <td>303.000000</td>\n",
       "    </tr>\n",
       "    <tr>\n",
       "      <th>mean</th>\n",
       "      <td>54.438944</td>\n",
       "      <td>0.679868</td>\n",
       "      <td>2.158416</td>\n",
       "      <td>131.689769</td>\n",
       "      <td>246.693069</td>\n",
       "      <td>0.148515</td>\n",
       "      <td>0.990099</td>\n",
       "      <td>149.607261</td>\n",
       "      <td>0.326733</td>\n",
       "      <td>1.039604</td>\n",
       "      <td>0.600660</td>\n",
       "      <td>0.663366</td>\n",
       "      <td>1.831683</td>\n",
       "      <td>0.458746</td>\n",
       "    </tr>\n",
       "    <tr>\n",
       "      <th>std</th>\n",
       "      <td>9.038662</td>\n",
       "      <td>0.467299</td>\n",
       "      <td>0.960126</td>\n",
       "      <td>17.599748</td>\n",
       "      <td>51.776918</td>\n",
       "      <td>0.356198</td>\n",
       "      <td>0.994971</td>\n",
       "      <td>22.875003</td>\n",
       "      <td>0.469794</td>\n",
       "      <td>1.161075</td>\n",
       "      <td>0.616226</td>\n",
       "      <td>0.934375</td>\n",
       "      <td>0.956705</td>\n",
       "      <td>0.499120</td>\n",
       "    </tr>\n",
       "    <tr>\n",
       "      <th>min</th>\n",
       "      <td>29.000000</td>\n",
       "      <td>0.000000</td>\n",
       "      <td>0.000000</td>\n",
       "      <td>94.000000</td>\n",
       "      <td>126.000000</td>\n",
       "      <td>0.000000</td>\n",
       "      <td>0.000000</td>\n",
       "      <td>71.000000</td>\n",
       "      <td>0.000000</td>\n",
       "      <td>0.000000</td>\n",
       "      <td>0.000000</td>\n",
       "      <td>0.000000</td>\n",
       "      <td>1.000000</td>\n",
       "      <td>0.000000</td>\n",
       "    </tr>\n",
       "    <tr>\n",
       "      <th>25%</th>\n",
       "      <td>48.000000</td>\n",
       "      <td>0.000000</td>\n",
       "      <td>2.000000</td>\n",
       "      <td>120.000000</td>\n",
       "      <td>211.000000</td>\n",
       "      <td>0.000000</td>\n",
       "      <td>0.000000</td>\n",
       "      <td>133.500000</td>\n",
       "      <td>0.000000</td>\n",
       "      <td>0.000000</td>\n",
       "      <td>0.000000</td>\n",
       "      <td>0.000000</td>\n",
       "      <td>1.000000</td>\n",
       "      <td>0.000000</td>\n",
       "    </tr>\n",
       "    <tr>\n",
       "      <th>50%</th>\n",
       "      <td>56.000000</td>\n",
       "      <td>1.000000</td>\n",
       "      <td>2.000000</td>\n",
       "      <td>130.000000</td>\n",
       "      <td>241.000000</td>\n",
       "      <td>0.000000</td>\n",
       "      <td>1.000000</td>\n",
       "      <td>153.000000</td>\n",
       "      <td>0.000000</td>\n",
       "      <td>0.800000</td>\n",
       "      <td>1.000000</td>\n",
       "      <td>0.000000</td>\n",
       "      <td>1.000000</td>\n",
       "      <td>0.000000</td>\n",
       "    </tr>\n",
       "    <tr>\n",
       "      <th>75%</th>\n",
       "      <td>61.000000</td>\n",
       "      <td>1.000000</td>\n",
       "      <td>3.000000</td>\n",
       "      <td>140.000000</td>\n",
       "      <td>275.000000</td>\n",
       "      <td>0.000000</td>\n",
       "      <td>2.000000</td>\n",
       "      <td>166.000000</td>\n",
       "      <td>1.000000</td>\n",
       "      <td>1.600000</td>\n",
       "      <td>1.000000</td>\n",
       "      <td>1.000000</td>\n",
       "      <td>3.000000</td>\n",
       "      <td>1.000000</td>\n",
       "    </tr>\n",
       "    <tr>\n",
       "      <th>max</th>\n",
       "      <td>77.000000</td>\n",
       "      <td>1.000000</td>\n",
       "      <td>3.000000</td>\n",
       "      <td>200.000000</td>\n",
       "      <td>564.000000</td>\n",
       "      <td>1.000000</td>\n",
       "      <td>2.000000</td>\n",
       "      <td>202.000000</td>\n",
       "      <td>1.000000</td>\n",
       "      <td>6.200000</td>\n",
       "      <td>2.000000</td>\n",
       "      <td>3.000000</td>\n",
       "      <td>3.000000</td>\n",
       "      <td>1.000000</td>\n",
       "    </tr>\n",
       "  </tbody>\n",
       "</table>\n",
       "</div>"
      ],
      "text/plain": [
       "              age         sex          cp    trestbps        chol         fbs  \\\n",
       "count  303.000000  303.000000  303.000000  303.000000  303.000000  303.000000   \n",
       "mean    54.438944    0.679868    2.158416  131.689769  246.693069    0.148515   \n",
       "std      9.038662    0.467299    0.960126   17.599748   51.776918    0.356198   \n",
       "min     29.000000    0.000000    0.000000   94.000000  126.000000    0.000000   \n",
       "25%     48.000000    0.000000    2.000000  120.000000  211.000000    0.000000   \n",
       "50%     56.000000    1.000000    2.000000  130.000000  241.000000    0.000000   \n",
       "75%     61.000000    1.000000    3.000000  140.000000  275.000000    0.000000   \n",
       "max     77.000000    1.000000    3.000000  200.000000  564.000000    1.000000   \n",
       "\n",
       "          restecg     thalach       exang     oldpeak       slope          ca  \\\n",
       "count  303.000000  303.000000  303.000000  303.000000  303.000000  303.000000   \n",
       "mean     0.990099  149.607261    0.326733    1.039604    0.600660    0.663366   \n",
       "std      0.994971   22.875003    0.469794    1.161075    0.616226    0.934375   \n",
       "min      0.000000   71.000000    0.000000    0.000000    0.000000    0.000000   \n",
       "25%      0.000000  133.500000    0.000000    0.000000    0.000000    0.000000   \n",
       "50%      1.000000  153.000000    0.000000    0.800000    1.000000    0.000000   \n",
       "75%      2.000000  166.000000    1.000000    1.600000    1.000000    1.000000   \n",
       "max      2.000000  202.000000    1.000000    6.200000    2.000000    3.000000   \n",
       "\n",
       "             thal  heartdisease  \n",
       "count  303.000000    303.000000  \n",
       "mean     1.831683      0.458746  \n",
       "std      0.956705      0.499120  \n",
       "min      1.000000      0.000000  \n",
       "25%      1.000000      0.000000  \n",
       "50%      1.000000      0.000000  \n",
       "75%      3.000000      1.000000  \n",
       "max      3.000000      1.000000  "
      ]
     },
     "execution_count": 35,
     "metadata": {},
     "output_type": "execute_result"
    }
   ],
   "source": [
    "# Describe basic statistical details\n",
    "heartDisease.describe()"
   ]
  },
  {
   "cell_type": "code",
   "execution_count": 37,
   "id": "55ccf4c7",
   "metadata": {},
   "outputs": [],
   "source": [
    "# Convert the BayesianNetwork to a NetworkX graph\n",
    "G = nx.DiGraph(model.edges())"
   ]
  },
  {
   "cell_type": "code",
   "execution_count": 38,
   "id": "0c2c5b96",
   "metadata": {},
   "outputs": [
    {
     "data": {
      "image/png": "[encoded data removed]",
      "text/plain": [
       "<Figure size 800x600 with 1 Axes>"
      ]
     },
     "metadata": {},
     "output_type": "display_data"
    }
   ],
   "source": [
    "# Define a function to visualize the graph using a specified layout\n",
    "plt.figure(figsize=(8, 6))\n",
    "pos = nx.shell_layout(G)\n",
    "nx.draw(G, pos, with_labels=True, node_size=3000, node_color='lightblue', font_size=10, font_weight='bold', arrows=True)"
   ]
  },
  {
   "cell_type": "markdown",
   "id": "7981a775",
   "metadata": {},
   "source": [
    "The above graph shows the structure of a Bayesian Network, illustrating the dependencies between different variables in the heart disease dataset. The nodes represent the variables, and the directed edges (arrows) represent the conditional dependencies between these variables."
   ]
  },
  {
   "cell_type": "code",
   "execution_count": null,
   "id": "b4db9bbf",
   "metadata": {},
   "outputs": [],
   "source": []
  }
 ],
 "metadata": {
  "kernelspec": {
   "display_name": "Python 3 (ipykernel)",
   "language": "python",
   "name": "python3"
  },
  "language_info": {
   "codemirror_mode": {
    "name": "ipython",
    "version": 3
   },
   "file_extension": ".py",
   "mimetype": "text/x-python",
   "name": "python",
   "nbconvert_exporter": "python",
   "pygments_lexer": "ipython3",
   "version": "3.11.5"
  }
 },
 "nbformat": 4,
 "nbformat_minor": 5
}
